{
 "cells": [
  {
   "cell_type": "code",
   "execution_count": 29,
   "metadata": {},
   "outputs": [],
   "source": [
    "import pandas as pd\n",
    "import numpy as np\n",
    "import matplotlib.pyplot as plt\n",
    "import seaborn as sns\n",
    "from typing import List\n",
    "from datetime import datetime, timedelta, date\n",
    "from sklearn.preprocessing import MinMaxScaler, PolynomialFeatures\n",
    "from sklearn.linear_model import LinearRegression\n",
    "from sklearn.model_selection import RandomizedSearchCV\n",
    "import scipy.stats as stats\n",
    "from time import time\n",
    "import joblib\n",
    "\n",
    "%matplotlib inline\n",
    "plt.rcParams['figure.figsize'] = [20, 10]"
   ]
  },
  {
   "cell_type": "code",
   "execution_count": 23,
   "metadata": {},
   "outputs": [
    {
     "name": "stdout",
     "output_type": "stream",
     "text": [
      "<class 'pandas.core.frame.DataFrame'>\n",
      "RangeIndex: 20 entries, 0 to 19\n",
      "Data columns (total 14 columns):\n",
      "Activity Id                 20 non-null object\n",
      "Date                        20 non-null object\n",
      "Type                        20 non-null object\n",
      "Route Name                  0 non-null float64\n",
      "Distance (km)               20 non-null float64\n",
      "Duration                    20 non-null object\n",
      "Average Pace                20 non-null object\n",
      "Average Speed (km/h)        20 non-null float64\n",
      "Calories Burned             20 non-null float64\n",
      "Climb (m)                   20 non-null int64\n",
      "Average Heart Rate (bpm)    19 non-null float64\n",
      "Friend's Tagged             0 non-null float64\n",
      "Notes                       0 non-null float64\n",
      "GPX File                    19 non-null object\n",
      "dtypes: float64(7), int64(1), object(6)\n",
      "memory usage: 2.3+ KB\n"
     ]
    }
   ],
   "source": [
    "df = pd.read_csv(\"../runkeeper_data/P1/cardioActivities.csv\")\n",
    "df.info()"
   ]
  },
  {
   "cell_type": "code",
   "execution_count": 24,
   "metadata": {},
   "outputs": [
    {
     "data": {
      "text/html": [
       "<div>\n",
       "<style scoped>\n",
       "    .dataframe tbody tr th:only-of-type {\n",
       "        vertical-align: middle;\n",
       "    }\n",
       "\n",
       "    .dataframe tbody tr th {\n",
       "        vertical-align: top;\n",
       "    }\n",
       "\n",
       "    .dataframe thead th {\n",
       "        text-align: right;\n",
       "    }\n",
       "</style>\n",
       "<table border=\"1\" class=\"dataframe\">\n",
       "  <thead>\n",
       "    <tr style=\"text-align: right;\">\n",
       "      <th></th>\n",
       "      <th>Date</th>\n",
       "      <th>Distance (km)</th>\n",
       "      <th>Duration</th>\n",
       "      <th>Average Pace</th>\n",
       "      <th>Average Speed (km/h)</th>\n",
       "      <th>Calories Burned</th>\n",
       "      <th>Climb (m)</th>\n",
       "    </tr>\n",
       "  </thead>\n",
       "  <tbody>\n",
       "    <tr>\n",
       "      <th>0</th>\n",
       "      <td>2020-07-07 20:30:26</td>\n",
       "      <td>5.37</td>\n",
       "      <td>30:32</td>\n",
       "      <td>5:41</td>\n",
       "      <td>10.54</td>\n",
       "      <td>375.0</td>\n",
       "      <td>36</td>\n",
       "    </tr>\n",
       "    <tr>\n",
       "      <th>1</th>\n",
       "      <td>2020-07-06 19:53:06</td>\n",
       "      <td>5.37</td>\n",
       "      <td>30:56</td>\n",
       "      <td>5:46</td>\n",
       "      <td>10.41</td>\n",
       "      <td>376.0</td>\n",
       "      <td>39</td>\n",
       "    </tr>\n",
       "    <tr>\n",
       "      <th>2</th>\n",
       "      <td>2020-07-04 08:25:43</td>\n",
       "      <td>0.15</td>\n",
       "      <td>1:50</td>\n",
       "      <td>11:58</td>\n",
       "      <td>5.01</td>\n",
       "      <td>19.0</td>\n",
       "      <td>0</td>\n",
       "    </tr>\n",
       "    <tr>\n",
       "      <th>3</th>\n",
       "      <td>2020-07-04 05:51:17</td>\n",
       "      <td>21.21</td>\n",
       "      <td>2:18:09</td>\n",
       "      <td>6:31</td>\n",
       "      <td>9.21</td>\n",
       "      <td>1560.0</td>\n",
       "      <td>31</td>\n",
       "    </tr>\n",
       "    <tr>\n",
       "      <th>4</th>\n",
       "      <td>2020-07-03 18:17:50</td>\n",
       "      <td>5.70</td>\n",
       "      <td>34:02</td>\n",
       "      <td>5:58</td>\n",
       "      <td>10.05</td>\n",
       "      <td>405.0</td>\n",
       "      <td>3</td>\n",
       "    </tr>\n",
       "  </tbody>\n",
       "</table>\n",
       "</div>"
      ],
      "text/plain": [
       "                  Date  Distance (km) Duration Average Pace  \\\n",
       "0  2020-07-07 20:30:26           5.37    30:32         5:41   \n",
       "1  2020-07-06 19:53:06           5.37    30:56         5:46   \n",
       "2  2020-07-04 08:25:43           0.15     1:50        11:58   \n",
       "3  2020-07-04 05:51:17          21.21  2:18:09         6:31   \n",
       "4  2020-07-03 18:17:50           5.70    34:02         5:58   \n",
       "\n",
       "   Average Speed (km/h)  Calories Burned  Climb (m)  \n",
       "0                 10.54            375.0         36  \n",
       "1                 10.41            376.0         39  \n",
       "2                  5.01             19.0          0  \n",
       "3                  9.21           1560.0         31  \n",
       "4                 10.05            405.0          3  "
      ]
     },
     "execution_count": 24,
     "metadata": {},
     "output_type": "execute_result"
    }
   ],
   "source": [
    "df = df.drop(columns=[\"Friend's Tagged\", \"Notes\", \"GPX File\", \"Average Heart Rate (bpm)\", \"Route Name\", \"Activity Id\", \"Type\"])\n",
    "df.head()"
   ]
  },
  {
   "cell_type": "code",
   "execution_count": 25,
   "metadata": {},
   "outputs": [
    {
     "data": {
      "text/plain": [
       "13905"
      ]
     },
     "execution_count": 25,
     "metadata": {},
     "output_type": "execute_result"
    }
   ],
   "source": [
    "def get_duration_in_sec(duration):\n",
    "    duration_str = str(duration)\n",
    "    duration_parts = duration.split(\":\")\n",
    "    num_parts = len(duration_parts)\n",
    "    multiplier = 1\n",
    "    total_secs = 0\n",
    "    \n",
    "    while num_parts > 0:\n",
    "        total_secs += multiplier * int(duration_parts[num_parts - 1])\n",
    "        multiplier *= 60\n",
    "        num_parts -= 1\n",
    "        \n",
    "    return total_secs\n",
    "\n",
    "\n",
    "get_duration_in_sec(\"3:51:45\")        \n",
    "        "
   ]
  },
  {
   "cell_type": "code",
   "execution_count": 38,
   "metadata": {},
   "outputs": [
    {
     "data": {
      "text/plain": [
       "'3:51:45'"
      ]
     },
     "execution_count": 38,
     "metadata": {},
     "output_type": "execute_result"
    }
   ],
   "source": [
    "def get_duration_in_hh_mm_ss(duration_in_sec:float) -> str:\n",
    "    duration_in_sec= int(duration_in_sec)\n",
    "    final_duration = \"\"\n",
    "    seconds = duration_in_sec % 60\n",
    "    minutes = ((duration_in_sec % 3600) - seconds) // 60\n",
    "    hours = duration_in_sec // 3600\n",
    "    \n",
    "    if hours:\n",
    "        final_duration = str(hours) + \":\" + str(minutes) + \":\" + str(seconds)\n",
    "    else:\n",
    "        final_duration = str(minutes) + \":\" + str(seconds)\n",
    "        \n",
    "    return final_duration\n",
    "\n",
    "get_duration_in_hh_mm_ss(13905)"
   ]
  },
  {
   "cell_type": "code",
   "execution_count": 26,
   "metadata": {},
   "outputs": [
    {
     "data": {
      "text/html": [
       "<div>\n",
       "<style scoped>\n",
       "    .dataframe tbody tr th:only-of-type {\n",
       "        vertical-align: middle;\n",
       "    }\n",
       "\n",
       "    .dataframe tbody tr th {\n",
       "        vertical-align: top;\n",
       "    }\n",
       "\n",
       "    .dataframe thead th {\n",
       "        text-align: right;\n",
       "    }\n",
       "</style>\n",
       "<table border=\"1\" class=\"dataframe\">\n",
       "  <thead>\n",
       "    <tr style=\"text-align: right;\">\n",
       "      <th></th>\n",
       "      <th>Distance (km)</th>\n",
       "      <th>Duration</th>\n",
       "      <th>Average Pace</th>\n",
       "      <th>Average Speed (km/h)</th>\n",
       "      <th>Calories Burned</th>\n",
       "      <th>Climb (m)</th>\n",
       "      <th>year</th>\n",
       "      <th>month</th>\n",
       "      <th>day</th>\n",
       "      <th>hour</th>\n",
       "      <th>minute</th>\n",
       "      <th>day_of_week</th>\n",
       "      <th>is_weekend</th>\n",
       "      <th>duration_sec</th>\n",
       "    </tr>\n",
       "    <tr>\n",
       "      <th>date</th>\n",
       "      <th></th>\n",
       "      <th></th>\n",
       "      <th></th>\n",
       "      <th></th>\n",
       "      <th></th>\n",
       "      <th></th>\n",
       "      <th></th>\n",
       "      <th></th>\n",
       "      <th></th>\n",
       "      <th></th>\n",
       "      <th></th>\n",
       "      <th></th>\n",
       "      <th></th>\n",
       "      <th></th>\n",
       "    </tr>\n",
       "  </thead>\n",
       "  <tbody>\n",
       "    <tr>\n",
       "      <th>2020-07-07</th>\n",
       "      <td>5.37</td>\n",
       "      <td>30:32</td>\n",
       "      <td>5:41</td>\n",
       "      <td>10.54</td>\n",
       "      <td>375.0</td>\n",
       "      <td>36</td>\n",
       "      <td>2020</td>\n",
       "      <td>7</td>\n",
       "      <td>7</td>\n",
       "      <td>20</td>\n",
       "      <td>30</td>\n",
       "      <td>1</td>\n",
       "      <td>False</td>\n",
       "      <td>1832</td>\n",
       "    </tr>\n",
       "    <tr>\n",
       "      <th>2020-07-06</th>\n",
       "      <td>5.37</td>\n",
       "      <td>30:56</td>\n",
       "      <td>5:46</td>\n",
       "      <td>10.41</td>\n",
       "      <td>376.0</td>\n",
       "      <td>39</td>\n",
       "      <td>2020</td>\n",
       "      <td>7</td>\n",
       "      <td>6</td>\n",
       "      <td>19</td>\n",
       "      <td>53</td>\n",
       "      <td>0</td>\n",
       "      <td>False</td>\n",
       "      <td>1856</td>\n",
       "    </tr>\n",
       "    <tr>\n",
       "      <th>2020-07-04</th>\n",
       "      <td>0.15</td>\n",
       "      <td>1:50</td>\n",
       "      <td>11:58</td>\n",
       "      <td>5.01</td>\n",
       "      <td>19.0</td>\n",
       "      <td>0</td>\n",
       "      <td>2020</td>\n",
       "      <td>7</td>\n",
       "      <td>4</td>\n",
       "      <td>8</td>\n",
       "      <td>25</td>\n",
       "      <td>5</td>\n",
       "      <td>True</td>\n",
       "      <td>110</td>\n",
       "    </tr>\n",
       "    <tr>\n",
       "      <th>2020-07-04</th>\n",
       "      <td>21.21</td>\n",
       "      <td>2:18:09</td>\n",
       "      <td>6:31</td>\n",
       "      <td>9.21</td>\n",
       "      <td>1560.0</td>\n",
       "      <td>31</td>\n",
       "      <td>2020</td>\n",
       "      <td>7</td>\n",
       "      <td>4</td>\n",
       "      <td>5</td>\n",
       "      <td>51</td>\n",
       "      <td>5</td>\n",
       "      <td>True</td>\n",
       "      <td>8289</td>\n",
       "    </tr>\n",
       "    <tr>\n",
       "      <th>2020-07-03</th>\n",
       "      <td>5.70</td>\n",
       "      <td>34:02</td>\n",
       "      <td>5:58</td>\n",
       "      <td>10.05</td>\n",
       "      <td>405.0</td>\n",
       "      <td>3</td>\n",
       "      <td>2020</td>\n",
       "      <td>7</td>\n",
       "      <td>3</td>\n",
       "      <td>18</td>\n",
       "      <td>17</td>\n",
       "      <td>4</td>\n",
       "      <td>False</td>\n",
       "      <td>2042</td>\n",
       "    </tr>\n",
       "  </tbody>\n",
       "</table>\n",
       "</div>"
      ],
      "text/plain": [
       "            Distance (km) Duration Average Pace  Average Speed (km/h)  \\\n",
       "date                                                                    \n",
       "2020-07-07           5.37    30:32         5:41                 10.54   \n",
       "2020-07-06           5.37    30:56         5:46                 10.41   \n",
       "2020-07-04           0.15     1:50        11:58                  5.01   \n",
       "2020-07-04          21.21  2:18:09         6:31                  9.21   \n",
       "2020-07-03           5.70    34:02         5:58                 10.05   \n",
       "\n",
       "            Calories Burned  Climb (m)  year  month  day  hour  minute  \\\n",
       "date                                                                     \n",
       "2020-07-07            375.0         36  2020      7    7    20      30   \n",
       "2020-07-06            376.0         39  2020      7    6    19      53   \n",
       "2020-07-04             19.0          0  2020      7    4     8      25   \n",
       "2020-07-04           1560.0         31  2020      7    4     5      51   \n",
       "2020-07-03            405.0          3  2020      7    3    18      17   \n",
       "\n",
       "            day_of_week  is_weekend  duration_sec  \n",
       "date                                               \n",
       "2020-07-07            1       False          1832  \n",
       "2020-07-06            0       False          1856  \n",
       "2020-07-04            5        True           110  \n",
       "2020-07-04            5        True          8289  \n",
       "2020-07-03            4       False          2042  "
      ]
     },
     "execution_count": 26,
     "metadata": {},
     "output_type": "execute_result"
    }
   ],
   "source": [
    "df[\"Date\"] = pd.to_datetime(df[\"Date\"], format='%Y-%m-%d %H:%M:%S')\n",
    "df[\"date\"] = df[\"Date\"].apply(lambda x: x.date())\n",
    "df[\"year\"] = df[\"Date\"].apply(lambda x: x.year)\n",
    "df[\"month\"] = df[\"Date\"].apply(lambda x: x.month)\n",
    "df[\"day\"] = df[\"Date\"].apply(lambda x: x.day)\n",
    "df[\"hour\"] = df[\"Date\"].apply(lambda x: x.hour)\n",
    "df[\"minute\"] = df[\"Date\"].apply(lambda x: x.minute)\n",
    "df = df.drop(columns=[\"Date\"])\n",
    "\n",
    "df.set_index('date', inplace=True)\n",
    "df.index = pd.to_datetime(df.index, format='%Y-%m-%d')\n",
    "\n",
    "# 0 is Monday and 6 is Sunday\n",
    "df[\"day_of_week\"] = df.index.weekday\n",
    "df[\"is_weekend\"] = df[\"day_of_week\"].apply(lambda x: x==5 or x==6)\n",
    "df[\"duration_sec\"] = df[\"Duration\"].apply(get_duration_in_sec)\n",
    "df.head()"
   ]
  },
  {
   "cell_type": "code",
   "execution_count": 27,
   "metadata": {},
   "outputs": [],
   "source": [
    "# Get median speed --> done\n",
    "# Get median duration --> done\n",
    "# Weekend, Hour of day - Duration, Km (slice and dice)\n",
    "# Outlier duration (too short runs!)\n",
    "# For valid runs, which runs have lesser average speed "
   ]
  },
  {
   "cell_type": "code",
   "execution_count": 30,
   "metadata": {},
   "outputs": [
    {
     "data": {
      "text/plain": [
       "<matplotlib.axes._subplots.AxesSubplot at 0x7fe2bf665810>"
      ]
     },
     "execution_count": 30,
     "metadata": {},
     "output_type": "execute_result"
    },
    {
     "data": {
      "image/png": "[encoded data removed]",
      "text/plain": [
       "<Figure size 1440x720 with 1 Axes>"
      ]
     },
     "metadata": {
      "needs_background": "light"
     },
     "output_type": "display_data"
    }
   ],
   "source": [
    "df[\"Distance (km)\"].plot(linewidth=0.5)"
   ]
  },
  {
   "cell_type": "code",
   "execution_count": 31,
   "metadata": {},
   "outputs": [
    {
     "data": {
      "text/plain": [
       "10.36"
      ]
     },
     "execution_count": 31,
     "metadata": {},
     "output_type": "execute_result"
    }
   ],
   "source": [
    "df[\"Average Speed (km/h)\"].median()"
   ]
  },
  {
   "cell_type": "code",
   "execution_count": 39,
   "metadata": {},
   "outputs": [
    {
     "data": {
      "text/plain": [
       "'31:13'"
      ]
     },
     "execution_count": 39,
     "metadata": {},
     "output_type": "execute_result"
    }
   ],
   "source": [
    "get_duration_in_hh_mm_ss(df[\"duration_sec\"].median())"
   ]
  },
  {
   "cell_type": "code",
   "execution_count": 40,
   "metadata": {},
   "outputs": [
    {
     "data": {
      "text/plain": [
       "5.47"
      ]
     },
     "execution_count": 40,
     "metadata": {},
     "output_type": "execute_result"
    }
   ],
   "source": [
    "round(df[\"Distance (km)\"].median(),2)"
   ]
  },
  {
   "cell_type": "code",
   "execution_count": null,
   "metadata": {},
   "outputs": [],
   "source": []
  }
 ],
 "metadata": {
  "kernelspec": {
   "display_name": "mutualfunds",
   "language": "python",
   "name": "mutualfunds"
  },
  "language_info": {
   "codemirror_mode": {
    "name": "ipython",
    "version": 3
   },
   "file_extension": ".py",
   "mimetype": "text/x-python",
   "name": "python",
   "nbconvert_exporter": "python",
   "pygments_lexer": "ipython3",
   "version": "3.7.5"
  }
 },
 "nbformat": 4,
 "nbformat_minor": 4
}
