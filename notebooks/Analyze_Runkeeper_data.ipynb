{
 "cells": [
  {
   "cell_type": "code",
   "execution_count": 1,
   "metadata": {},
   "outputs": [],
   "source": [
    "import pandas as pd\n",
    "import numpy as np\n",
    "import matplotlib.pyplot as plt\n",
    "import seaborn as sns\n",
    "from typing import List\n",
    "from datetime import datetime, timedelta, date\n",
    "from sklearn.preprocessing import MinMaxScaler, PolynomialFeatures\n",
    "from sklearn.linear_model import LinearRegression\n",
    "from sklearn.model_selection import RandomizedSearchCV\n",
    "import scipy.stats as stats\n",
    "from time import time\n",
    "import joblib\n",
    "\n",
    "%matplotlib inline\n",
    "plt.rcParams['figure.figsize'] = [20, 10]"
   ]
  },
  {
   "cell_type": "code",
   "execution_count": 96,
   "metadata": {},
   "outputs": [
    {
     "name": "stdout",
     "output_type": "stream",
     "text": [
      "<class 'pandas.core.frame.DataFrame'>\n",
      "RangeIndex: 20 entries, 0 to 19\n",
      "Data columns (total 14 columns):\n",
      "Activity Id                 20 non-null object\n",
      "Date                        20 non-null object\n",
      "Type                        20 non-null object\n",
      "Route Name                  0 non-null float64\n",
      "Distance (km)               20 non-null float64\n",
      "Duration                    20 non-null object\n",
      "Average Pace                20 non-null object\n",
      "Average Speed (km/h)        20 non-null float64\n",
      "Calories Burned             20 non-null float64\n",
      "Climb (m)                   20 non-null int64\n",
      "Average Heart Rate (bpm)    19 non-null float64\n",
      "Friend's Tagged             0 non-null float64\n",
      "Notes                       0 non-null float64\n",
      "GPX File                    19 non-null object\n",
      "dtypes: float64(7), int64(1), object(6)\n",
      "memory usage: 2.3+ KB\n"
     ]
    }
   ],
   "source": [
    "df = pd.read_csv(\"../runkeeper_data/p1_cardioActivities.csv\")\n",
    "df.info()"
   ]
  },
  {
   "cell_type": "code",
   "execution_count": 65,
   "metadata": {},
   "outputs": [
    {
     "data": {
      "text/html": [
       "<div>\n",
       "<style scoped>\n",
       "    .dataframe tbody tr th:only-of-type {\n",
       "        vertical-align: middle;\n",
       "    }\n",
       "\n",
       "    .dataframe tbody tr th {\n",
       "        vertical-align: top;\n",
       "    }\n",
       "\n",
       "    .dataframe thead th {\n",
       "        text-align: right;\n",
       "    }\n",
       "</style>\n",
       "<table border=\"1\" class=\"dataframe\">\n",
       "  <thead>\n",
       "    <tr style=\"text-align: right;\">\n",
       "      <th></th>\n",
       "      <th>Date</th>\n",
       "      <th>Distance (km)</th>\n",
       "      <th>Duration</th>\n",
       "      <th>Average Pace</th>\n",
       "      <th>Average Speed (km/h)</th>\n",
       "      <th>Calories Burned</th>\n",
       "      <th>Climb (m)</th>\n",
       "    </tr>\n",
       "  </thead>\n",
       "  <tbody>\n",
       "    <tr>\n",
       "      <th>0</th>\n",
       "      <td>2020-07-07 20:30:26</td>\n",
       "      <td>5.37</td>\n",
       "      <td>30:32</td>\n",
       "      <td>5:41</td>\n",
       "      <td>10.54</td>\n",
       "      <td>375.0</td>\n",
       "      <td>36</td>\n",
       "    </tr>\n",
       "    <tr>\n",
       "      <th>1</th>\n",
       "      <td>2020-07-06 19:53:06</td>\n",
       "      <td>5.37</td>\n",
       "      <td>30:56</td>\n",
       "      <td>5:46</td>\n",
       "      <td>10.41</td>\n",
       "      <td>376.0</td>\n",
       "      <td>39</td>\n",
       "    </tr>\n",
       "    <tr>\n",
       "      <th>2</th>\n",
       "      <td>2020-07-04 08:25:43</td>\n",
       "      <td>0.15</td>\n",
       "      <td>1:50</td>\n",
       "      <td>11:58</td>\n",
       "      <td>5.01</td>\n",
       "      <td>19.0</td>\n",
       "      <td>0</td>\n",
       "    </tr>\n",
       "    <tr>\n",
       "      <th>3</th>\n",
       "      <td>2020-07-04 05:51:17</td>\n",
       "      <td>21.21</td>\n",
       "      <td>2:18:09</td>\n",
       "      <td>6:31</td>\n",
       "      <td>9.21</td>\n",
       "      <td>1560.0</td>\n",
       "      <td>31</td>\n",
       "    </tr>\n",
       "    <tr>\n",
       "      <th>4</th>\n",
       "      <td>2020-07-03 18:17:50</td>\n",
       "      <td>5.70</td>\n",
       "      <td>34:02</td>\n",
       "      <td>5:58</td>\n",
       "      <td>10.05</td>\n",
       "      <td>405.0</td>\n",
       "      <td>3</td>\n",
       "    </tr>\n",
       "  </tbody>\n",
       "</table>\n",
       "</div>"
      ],
      "text/plain": [
       "                  Date  Distance (km) Duration Average Pace  \\\n",
       "0  2020-07-07 20:30:26           5.37    30:32         5:41   \n",
       "1  2020-07-06 19:53:06           5.37    30:56         5:46   \n",
       "2  2020-07-04 08:25:43           0.15     1:50        11:58   \n",
       "3  2020-07-04 05:51:17          21.21  2:18:09         6:31   \n",
       "4  2020-07-03 18:17:50           5.70    34:02         5:58   \n",
       "\n",
       "   Average Speed (km/h)  Calories Burned  Climb (m)  \n",
       "0                 10.54            375.0         36  \n",
       "1                 10.41            376.0         39  \n",
       "2                  5.01             19.0          0  \n",
       "3                  9.21           1560.0         31  \n",
       "4                 10.05            405.0          3  "
      ]
     },
     "execution_count": 65,
     "metadata": {},
     "output_type": "execute_result"
    }
   ],
   "source": [
    "df = df.drop(columns=[\"Friend's Tagged\", \"Notes\", \"GPX File\", \"Average Heart Rate (bpm)\", \"Route Name\", \"Activity Id\", \"Type\"])\n",
    "df.head()"
   ]
  },
  {
   "cell_type": "code",
   "execution_count": 66,
   "metadata": {},
   "outputs": [
    {
     "data": {
      "text/plain": [
       "13905"
      ]
     },
     "execution_count": 66,
     "metadata": {},
     "output_type": "execute_result"
    }
   ],
   "source": [
    "def get_duration_in_sec(duration):\n",
    "    duration_str = str(duration)\n",
    "    duration_parts = duration.split(\":\")\n",
    "    num_parts = len(duration_parts)\n",
    "    multiplier = 1\n",
    "    total_secs = 0\n",
    "    \n",
    "    while num_parts > 0:\n",
    "        total_secs += multiplier * int(duration_parts[num_parts - 1])\n",
    "        multiplier *= 60\n",
    "        num_parts -= 1\n",
    "        \n",
    "    return total_secs\n",
    "\n",
    "\n",
    "get_duration_in_sec(\"3:51:45\")        \n",
    "        "
   ]
  },
  {
   "cell_type": "code",
   "execution_count": 67,
   "metadata": {},
   "outputs": [
    {
     "data": {
      "text/plain": [
       "'3:51:45'"
      ]
     },
     "execution_count": 67,
     "metadata": {},
     "output_type": "execute_result"
    }
   ],
   "source": [
    "def get_duration_in_hh_mm_ss(duration_in_sec:float) -> str:\n",
    "    duration_in_sec= int(duration_in_sec)\n",
    "    final_duration = \"\"\n",
    "    seconds = duration_in_sec % 60\n",
    "    minutes = ((duration_in_sec % 3600) - seconds) // 60\n",
    "    hours = duration_in_sec // 3600\n",
    "    \n",
    "    if hours:\n",
    "        final_duration = str(hours) + \":\" + str(minutes) + \":\" + str(seconds)\n",
    "    else:\n",
    "        final_duration = str(minutes) + \":\" + str(seconds)\n",
    "        \n",
    "    return final_duration\n",
    "\n",
    "get_duration_in_hh_mm_ss(13905)"
   ]
  },
  {
   "cell_type": "code",
   "execution_count": 68,
   "metadata": {},
   "outputs": [
    {
     "data": {
      "text/html": [
       "<div>\n",
       "<style scoped>\n",
       "    .dataframe tbody tr th:only-of-type {\n",
       "        vertical-align: middle;\n",
       "    }\n",
       "\n",
       "    .dataframe tbody tr th {\n",
       "        vertical-align: top;\n",
       "    }\n",
       "\n",
       "    .dataframe thead th {\n",
       "        text-align: right;\n",
       "    }\n",
       "</style>\n",
       "<table border=\"1\" class=\"dataframe\">\n",
       "  <thead>\n",
       "    <tr style=\"text-align: right;\">\n",
       "      <th></th>\n",
       "      <th>Distance (km)</th>\n",
       "      <th>Duration</th>\n",
       "      <th>Average Pace</th>\n",
       "      <th>Average Speed (km/h)</th>\n",
       "      <th>Calories Burned</th>\n",
       "      <th>Climb (m)</th>\n",
       "      <th>year</th>\n",
       "      <th>month</th>\n",
       "      <th>day</th>\n",
       "      <th>hour</th>\n",
       "      <th>minute</th>\n",
       "      <th>day_of_week</th>\n",
       "      <th>day_type</th>\n",
       "      <th>duration_sec</th>\n",
       "    </tr>\n",
       "    <tr>\n",
       "      <th>date</th>\n",
       "      <th></th>\n",
       "      <th></th>\n",
       "      <th></th>\n",
       "      <th></th>\n",
       "      <th></th>\n",
       "      <th></th>\n",
       "      <th></th>\n",
       "      <th></th>\n",
       "      <th></th>\n",
       "      <th></th>\n",
       "      <th></th>\n",
       "      <th></th>\n",
       "      <th></th>\n",
       "      <th></th>\n",
       "    </tr>\n",
       "  </thead>\n",
       "  <tbody>\n",
       "    <tr>\n",
       "      <th>2020-07-07</th>\n",
       "      <td>5.37</td>\n",
       "      <td>30:32</td>\n",
       "      <td>5:41</td>\n",
       "      <td>10.54</td>\n",
       "      <td>375.0</td>\n",
       "      <td>36</td>\n",
       "      <td>2020</td>\n",
       "      <td>7</td>\n",
       "      <td>7</td>\n",
       "      <td>20</td>\n",
       "      <td>30</td>\n",
       "      <td>1</td>\n",
       "      <td>Weekday</td>\n",
       "      <td>1832</td>\n",
       "    </tr>\n",
       "    <tr>\n",
       "      <th>2020-07-06</th>\n",
       "      <td>5.37</td>\n",
       "      <td>30:56</td>\n",
       "      <td>5:46</td>\n",
       "      <td>10.41</td>\n",
       "      <td>376.0</td>\n",
       "      <td>39</td>\n",
       "      <td>2020</td>\n",
       "      <td>7</td>\n",
       "      <td>6</td>\n",
       "      <td>19</td>\n",
       "      <td>53</td>\n",
       "      <td>0</td>\n",
       "      <td>Weekday</td>\n",
       "      <td>1856</td>\n",
       "    </tr>\n",
       "    <tr>\n",
       "      <th>2020-07-04</th>\n",
       "      <td>0.15</td>\n",
       "      <td>1:50</td>\n",
       "      <td>11:58</td>\n",
       "      <td>5.01</td>\n",
       "      <td>19.0</td>\n",
       "      <td>0</td>\n",
       "      <td>2020</td>\n",
       "      <td>7</td>\n",
       "      <td>4</td>\n",
       "      <td>8</td>\n",
       "      <td>25</td>\n",
       "      <td>5</td>\n",
       "      <td>Weekend</td>\n",
       "      <td>110</td>\n",
       "    </tr>\n",
       "    <tr>\n",
       "      <th>2020-07-04</th>\n",
       "      <td>21.21</td>\n",
       "      <td>2:18:09</td>\n",
       "      <td>6:31</td>\n",
       "      <td>9.21</td>\n",
       "      <td>1560.0</td>\n",
       "      <td>31</td>\n",
       "      <td>2020</td>\n",
       "      <td>7</td>\n",
       "      <td>4</td>\n",
       "      <td>5</td>\n",
       "      <td>51</td>\n",
       "      <td>5</td>\n",
       "      <td>Weekend</td>\n",
       "      <td>8289</td>\n",
       "    </tr>\n",
       "    <tr>\n",
       "      <th>2020-07-03</th>\n",
       "      <td>5.70</td>\n",
       "      <td>34:02</td>\n",
       "      <td>5:58</td>\n",
       "      <td>10.05</td>\n",
       "      <td>405.0</td>\n",
       "      <td>3</td>\n",
       "      <td>2020</td>\n",
       "      <td>7</td>\n",
       "      <td>3</td>\n",
       "      <td>18</td>\n",
       "      <td>17</td>\n",
       "      <td>4</td>\n",
       "      <td>Weekday</td>\n",
       "      <td>2042</td>\n",
       "    </tr>\n",
       "  </tbody>\n",
       "</table>\n",
       "</div>"
      ],
      "text/plain": [
       "            Distance (km) Duration Average Pace  Average Speed (km/h)  \\\n",
       "date                                                                    \n",
       "2020-07-07           5.37    30:32         5:41                 10.54   \n",
       "2020-07-06           5.37    30:56         5:46                 10.41   \n",
       "2020-07-04           0.15     1:50        11:58                  5.01   \n",
       "2020-07-04          21.21  2:18:09         6:31                  9.21   \n",
       "2020-07-03           5.70    34:02         5:58                 10.05   \n",
       "\n",
       "            Calories Burned  Climb (m)  year  month  day  hour  minute  \\\n",
       "date                                                                     \n",
       "2020-07-07            375.0         36  2020      7    7    20      30   \n",
       "2020-07-06            376.0         39  2020      7    6    19      53   \n",
       "2020-07-04             19.0          0  2020      7    4     8      25   \n",
       "2020-07-04           1560.0         31  2020      7    4     5      51   \n",
       "2020-07-03            405.0          3  2020      7    3    18      17   \n",
       "\n",
       "            day_of_week day_type  duration_sec  \n",
       "date                                            \n",
       "2020-07-07            1  Weekday          1832  \n",
       "2020-07-06            0  Weekday          1856  \n",
       "2020-07-04            5  Weekend           110  \n",
       "2020-07-04            5  Weekend          8289  \n",
       "2020-07-03            4  Weekday          2042  "
      ]
     },
     "execution_count": 68,
     "metadata": {},
     "output_type": "execute_result"
    }
   ],
   "source": [
    "df[\"Date\"] = pd.to_datetime(df[\"Date\"], format='%Y-%m-%d %H:%M:%S')\n",
    "df[\"date\"] = df[\"Date\"].apply(lambda x: x.date())\n",
    "df[\"year\"] = df[\"Date\"].apply(lambda x: x.year)\n",
    "df[\"month\"] = df[\"Date\"].apply(lambda x: x.month)\n",
    "df[\"day\"] = df[\"Date\"].apply(lambda x: x.day)\n",
    "df[\"hour\"] = df[\"Date\"].apply(lambda x: x.hour)\n",
    "df[\"minute\"] = df[\"Date\"].apply(lambda x: x.minute)\n",
    "df = df.drop(columns=[\"Date\"])\n",
    "\n",
    "df.set_index('date', inplace=True)\n",
    "df.index = pd.to_datetime(df.index, format='%Y-%m-%d')\n",
    "\n",
    "# 0 is Monday and 6 is Sunday\n",
    "df[\"day_of_week\"] = df.index.weekday\n",
    "df[\"day_type\"] = df[\"day_of_week\"].apply(lambda x: \"Weekend\" if (x==5 or x==6) else \"Weekday\")\n",
    "df[\"duration_sec\"] = df[\"Duration\"].apply(get_duration_in_sec)\n",
    "df.head()"
   ]
  },
  {
   "cell_type": "code",
   "execution_count": 69,
   "metadata": {},
   "outputs": [],
   "source": [
    "# Get median speed --> done\n",
    "# Get median duration --> done\n",
    "# Weekend, Hour of day - Duration, Km (slice and dice)\n",
    "# Outlier duration (too short runs!) --> Done\n",
    "# For valid runs, which runs have lesser average speed "
   ]
  },
  {
   "cell_type": "code",
   "execution_count": 70,
   "metadata": {},
   "outputs": [
    {
     "data": {
      "text/plain": [
       "<matplotlib.axes._subplots.AxesSubplot at 0x7f47c9e60610>"
      ]
     },
     "execution_count": 70,
     "metadata": {},
     "output_type": "execute_result"
    },
    {
     "data": {
      "image/png": "[encoded data removed]",
      "text/plain": [
       "<Figure size 432x288 with 1 Axes>"
      ]
     },
     "metadata": {
      "needs_background": "light"
     },
     "output_type": "display_data"
    }
   ],
   "source": [
    "df[\"Distance (km)\"].plot(linewidth=0.5)"
   ]
  },
  {
   "cell_type": "code",
   "execution_count": 71,
   "metadata": {},
   "outputs": [
    {
     "data": {
      "text/plain": [
       "10.36"
      ]
     },
     "execution_count": 71,
     "metadata": {},
     "output_type": "execute_result"
    }
   ],
   "source": [
    "df[\"Average Speed (km/h)\"].median()"
   ]
  },
  {
   "cell_type": "code",
   "execution_count": 72,
   "metadata": {},
   "outputs": [
    {
     "data": {
      "text/plain": [
       "'31:13'"
      ]
     },
     "execution_count": 72,
     "metadata": {},
     "output_type": "execute_result"
    }
   ],
   "source": [
    "get_duration_in_hh_mm_ss(df[\"duration_sec\"].median())"
   ]
  },
  {
   "cell_type": "code",
   "execution_count": 73,
   "metadata": {},
   "outputs": [
    {
     "data": {
      "text/plain": [
       "5.47"
      ]
     },
     "execution_count": 73,
     "metadata": {},
     "output_type": "execute_result"
    }
   ],
   "source": [
    "round(df[\"Distance (km)\"].median(),2)"
   ]
  },
  {
   "cell_type": "code",
   "execution_count": 74,
   "metadata": {},
   "outputs": [
    {
     "data": {
      "text/plain": [
       "'18:25'"
      ]
     },
     "execution_count": 74,
     "metadata": {},
     "output_type": "execute_result"
    }
   ],
   "source": [
    "# https://scikit-learn.org/stable/modules/outlier_detection.html\n",
    "get_duration_in_hh_mm_ss(df[\"duration_sec\"].quantile(q=0.2))"
   ]
  },
  {
   "cell_type": "code",
   "execution_count": 75,
   "metadata": {},
   "outputs": [],
   "source": [
    "def get_minimum_based_on_box_plot(df: pd.DataFrame, field_name: str) -> float:\n",
    "    Q1 = df[field_name].quantile(0.25)\n",
    "    Q3 = df[field_name].quantile(0.75)\n",
    "    IQR = Q3 - Q1\n",
    "    \n",
    "    print(IQR)\n",
    "    \n",
    "    min_value = Q1 - (1.5 * IQR)\n",
    "    print(min_value)\n",
    "    \n",
    "    return min_value"
   ]
  },
  {
   "cell_type": "code",
   "execution_count": 76,
   "metadata": {},
   "outputs": [
    {
     "name": "stdout",
     "output_type": "stream",
     "text": [
      "359.5\n",
      "1069.0\n"
     ]
    }
   ],
   "source": [
    "minimum_duration = get_minimum_based_on_box_plot(df, \"duration_sec\")"
   ]
  },
  {
   "cell_type": "code",
   "execution_count": 77,
   "metadata": {},
   "outputs": [
    {
     "data": {
      "text/plain": [
       "(20, 14)"
      ]
     },
     "execution_count": 77,
     "metadata": {},
     "output_type": "execute_result"
    }
   ],
   "source": [
    "df.shape"
   ]
  },
  {
   "cell_type": "code",
   "execution_count": 78,
   "metadata": {},
   "outputs": [
    {
     "data": {
      "text/plain": [
       "(16, 14)"
      ]
     },
     "execution_count": 78,
     "metadata": {},
     "output_type": "execute_result"
    }
   ],
   "source": [
    "df = df[df[\"duration_sec\"] >= minimum_duration]\n",
    "df.shape"
   ]
  },
  {
   "cell_type": "code",
   "execution_count": 79,
   "metadata": {},
   "outputs": [],
   "source": [
    "# Group by is_weekend -> aggregate distance, Average speed and duration with count\n",
    "# Group by hour -> aggregate distance, Average speed and duration with count"
   ]
  },
  {
   "cell_type": "code",
   "execution_count": 80,
   "metadata": {},
   "outputs": [
    {
     "data": {
      "text/html": [
       "<div>\n",
       "<style scoped>\n",
       "    .dataframe tbody tr th:only-of-type {\n",
       "        vertical-align: middle;\n",
       "    }\n",
       "\n",
       "    .dataframe tbody tr th {\n",
       "        vertical-align: top;\n",
       "    }\n",
       "\n",
       "    .dataframe thead tr th {\n",
       "        text-align: left;\n",
       "    }\n",
       "</style>\n",
       "<table border=\"1\" class=\"dataframe\">\n",
       "  <thead>\n",
       "    <tr>\n",
       "      <th></th>\n",
       "      <th>day_type</th>\n",
       "      <th colspan=\"3\" halign=\"left\">Distance (km)</th>\n",
       "      <th colspan=\"2\" halign=\"left\">Average Speed (km/h)</th>\n",
       "      <th colspan=\"2\" halign=\"left\">Climb (m)</th>\n",
       "      <th colspan=\"3\" halign=\"left\">Duration(HH:MM:SS)</th>\n",
       "    </tr>\n",
       "    <tr>\n",
       "      <th></th>\n",
       "      <th></th>\n",
       "      <th>median</th>\n",
       "      <th>sum</th>\n",
       "      <th>max</th>\n",
       "      <th>median</th>\n",
       "      <th>max</th>\n",
       "      <th>median</th>\n",
       "      <th>max</th>\n",
       "      <th>median</th>\n",
       "      <th>max</th>\n",
       "      <th>total</th>\n",
       "    </tr>\n",
       "  </thead>\n",
       "  <tbody>\n",
       "    <tr>\n",
       "      <th>0</th>\n",
       "      <td>Weekday</td>\n",
       "      <td>5.570</td>\n",
       "      <td>65.75</td>\n",
       "      <td>5.70</td>\n",
       "      <td>10.415</td>\n",
       "      <td>10.74</td>\n",
       "      <td>10</td>\n",
       "      <td>44</td>\n",
       "      <td>31:34</td>\n",
       "      <td>34:2</td>\n",
       "      <td>6:18:47</td>\n",
       "    </tr>\n",
       "    <tr>\n",
       "      <th>1</th>\n",
       "      <td>Weekend</td>\n",
       "      <td>15.625</td>\n",
       "      <td>55.69</td>\n",
       "      <td>21.21</td>\n",
       "      <td>9.420</td>\n",
       "      <td>9.64</td>\n",
       "      <td>31</td>\n",
       "      <td>33</td>\n",
       "      <td>1:38:56</td>\n",
       "      <td>2:18:9</td>\n",
       "      <td>5:56:8</td>\n",
       "    </tr>\n",
       "  </tbody>\n",
       "</table>\n",
       "</div>"
      ],
      "text/plain": [
       "  day_type Distance (km)               Average Speed (km/h)        Climb (m)  \\\n",
       "                  median    sum    max               median    max    median   \n",
       "0  Weekday         5.570  65.75   5.70               10.415  10.74        10   \n",
       "1  Weekend        15.625  55.69  21.21                9.420   9.64        31   \n",
       "\n",
       "      Duration(HH:MM:SS)                   \n",
       "  max             median     max    total  \n",
       "0  44              31:34    34:2  6:18:47  \n",
       "1  33            1:38:56  2:18:9   5:56:8  "
      ]
     },
     "execution_count": 80,
     "metadata": {},
     "output_type": "execute_result"
    }
   ],
   "source": [
    "df_grouped_is_weekend = df.groupby(\"day_type\")[[\"Distance (km)\", \"duration_sec\", \"Average Speed (km/h)\", \"Climb (m)\"]].agg({\"Distance (km)\": [\"median\", \"sum\", \"max\"], \"duration_sec\": [\"median\", \"sum\", \"max\"], \"Average Speed (km/h)\": [\"median\", \"max\"], \"Climb (m)\": [\"median\", \"max\"]})\n",
    "df_grouped_is_weekend = df_grouped_is_weekend.reset_index()\n",
    "\n",
    "df_grouped_is_weekend[(\"Duration(HH:MM:SS)\", \"median\")] =  df_grouped_is_weekend[(\"duration_sec\", \"median\")].apply(get_duration_in_hh_mm_ss)\n",
    "df_grouped_is_weekend[(\"Duration(HH:MM:SS)\", \"max\")] =  df_grouped_is_weekend[(\"duration_sec\", \"max\")].apply(get_duration_in_hh_mm_ss)\n",
    "df_grouped_is_weekend[(\"Duration(HH:MM:SS)\", \"total\")] =  df_grouped_is_weekend[(\"duration_sec\", \"sum\")].apply(get_duration_in_hh_mm_ss)\n",
    "\n",
    "\n",
    "df_grouped_is_weekend = df_grouped_is_weekend.drop(columns=[(\"duration_sec\", \"median\"), (\"duration_sec\", \"max\"), (\"duration_sec\", \"sum\")])\n",
    "\n",
    "df_grouped_is_weekend.head()"
   ]
  },
  {
   "cell_type": "code",
   "execution_count": 89,
   "metadata": {},
   "outputs": [
    {
     "data": {
      "text/html": [
       "<div>\n",
       "<style scoped>\n",
       "    .dataframe tbody tr th:only-of-type {\n",
       "        vertical-align: middle;\n",
       "    }\n",
       "\n",
       "    .dataframe tbody tr th {\n",
       "        vertical-align: top;\n",
       "    }\n",
       "\n",
       "    .dataframe thead th {\n",
       "        text-align: right;\n",
       "    }\n",
       "</style>\n",
       "<table border=\"1\" class=\"dataframe\">\n",
       "  <thead>\n",
       "    <tr style=\"text-align: right;\">\n",
       "      <th></th>\n",
       "      <th>day_type</th>\n",
       "      <th>num_runs</th>\n",
       "    </tr>\n",
       "  </thead>\n",
       "  <tbody>\n",
       "    <tr>\n",
       "      <th>0</th>\n",
       "      <td>Weekday</td>\n",
       "      <td>12</td>\n",
       "    </tr>\n",
       "    <tr>\n",
       "      <th>1</th>\n",
       "      <td>Weekend</td>\n",
       "      <td>4</td>\n",
       "    </tr>\n",
       "  </tbody>\n",
       "</table>\n",
       "</div>"
      ],
      "text/plain": [
       "  day_type  num_runs\n",
       "0  Weekday        12\n",
       "1  Weekend         4"
      ]
     },
     "execution_count": 89,
     "metadata": {},
     "output_type": "execute_result"
    }
   ],
   "source": [
    "df_grouped_is_weekend_count = df.groupby(\"day_type\").size().reset_index()\n",
    "df_grouped_is_weekend_count.columns = ['day_type', 'num_runs']\n",
    "df_grouped_is_weekend_count.head()"
   ]
  },
  {
   "cell_type": "code",
   "execution_count": 90,
   "metadata": {},
   "outputs": [
    {
     "name": "stderr",
     "output_type": "stream",
     "text": [
      "/home/anurag/anaconda3/envs/mutualfunds/lib/python3.7/site-packages/pandas/core/reshape/merge.py:617: UserWarning: merging between different levels can give an unintended result (2 levels on the left, 1 on the right)\n",
      "  warnings.warn(msg, UserWarning)\n"
     ]
    },
    {
     "data": {
      "text/html": [
       "<div>\n",
       "<style scoped>\n",
       "    .dataframe tbody tr th:only-of-type {\n",
       "        vertical-align: middle;\n",
       "    }\n",
       "\n",
       "    .dataframe tbody tr th {\n",
       "        vertical-align: top;\n",
       "    }\n",
       "\n",
       "    .dataframe thead th {\n",
       "        text-align: right;\n",
       "    }\n",
       "</style>\n",
       "<table border=\"1\" class=\"dataframe\">\n",
       "  <thead>\n",
       "    <tr style=\"text-align: right;\">\n",
       "      <th></th>\n",
       "      <th>day_type</th>\n",
       "      <th>(day_type, )</th>\n",
       "      <th>(Distance (km), median)</th>\n",
       "      <th>(Distance (km), sum)</th>\n",
       "      <th>(Distance (km), max)</th>\n",
       "      <th>(Average Speed (km/h), median)</th>\n",
       "      <th>(Average Speed (km/h), max)</th>\n",
       "      <th>(Climb (m), median)</th>\n",
       "      <th>(Climb (m), max)</th>\n",
       "      <th>(Duration(HH:MM:SS), median)</th>\n",
       "      <th>(Duration(HH:MM:SS), max)</th>\n",
       "      <th>(Duration(HH:MM:SS), total)</th>\n",
       "      <th>num_runs</th>\n",
       "    </tr>\n",
       "  </thead>\n",
       "  <tbody>\n",
       "    <tr>\n",
       "      <th>0</th>\n",
       "      <td>Weekday</td>\n",
       "      <td>Weekday</td>\n",
       "      <td>5.570</td>\n",
       "      <td>65.75</td>\n",
       "      <td>5.70</td>\n",
       "      <td>10.415</td>\n",
       "      <td>10.74</td>\n",
       "      <td>10</td>\n",
       "      <td>44</td>\n",
       "      <td>31:34</td>\n",
       "      <td>34:2</td>\n",
       "      <td>6:18:47</td>\n",
       "      <td>12</td>\n",
       "    </tr>\n",
       "    <tr>\n",
       "      <th>1</th>\n",
       "      <td>Weekend</td>\n",
       "      <td>Weekend</td>\n",
       "      <td>15.625</td>\n",
       "      <td>55.69</td>\n",
       "      <td>21.21</td>\n",
       "      <td>9.420</td>\n",
       "      <td>9.64</td>\n",
       "      <td>31</td>\n",
       "      <td>33</td>\n",
       "      <td>1:38:56</td>\n",
       "      <td>2:18:9</td>\n",
       "      <td>5:56:8</td>\n",
       "      <td>4</td>\n",
       "    </tr>\n",
       "  </tbody>\n",
       "</table>\n",
       "</div>"
      ],
      "text/plain": [
       "  day_type (day_type, )  (Distance (km), median)  (Distance (km), sum)  \\\n",
       "0  Weekday      Weekday                    5.570                 65.75   \n",
       "1  Weekend      Weekend                   15.625                 55.69   \n",
       "\n",
       "   (Distance (km), max)  (Average Speed (km/h), median)  \\\n",
       "0                  5.70                          10.415   \n",
       "1                 21.21                           9.420   \n",
       "\n",
       "   (Average Speed (km/h), max)  (Climb (m), median)  (Climb (m), max)  \\\n",
       "0                        10.74                   10                44   \n",
       "1                         9.64                   31                33   \n",
       "\n",
       "  (Duration(HH:MM:SS), median) (Duration(HH:MM:SS), max)  \\\n",
       "0                        31:34                      34:2   \n",
       "1                      1:38:56                    2:18:9   \n",
       "\n",
       "  (Duration(HH:MM:SS), total)  num_runs  \n",
       "0                     6:18:47        12  \n",
       "1                      5:56:8         4  "
      ]
     },
     "execution_count": 90,
     "metadata": {},
     "output_type": "execute_result"
    }
   ],
   "source": [
    "result_df = df_grouped_is_weekend.merge(df_grouped_is_weekend_count, on='day_type')"
   ]
  },
  {
   "cell_type": "code",
   "execution_count": 83,
   "metadata": {},
   "outputs": [
    {
     "data": {
      "text/html": [
       "<div>\n",
       "<style scoped>\n",
       "    .dataframe tbody tr th:only-of-type {\n",
       "        vertical-align: middle;\n",
       "    }\n",
       "\n",
       "    .dataframe tbody tr th {\n",
       "        vertical-align: top;\n",
       "    }\n",
       "\n",
       "    .dataframe thead tr th {\n",
       "        text-align: left;\n",
       "    }\n",
       "</style>\n",
       "<table border=\"1\" class=\"dataframe\">\n",
       "  <thead>\n",
       "    <tr>\n",
       "      <th></th>\n",
       "      <th>hour</th>\n",
       "      <th colspan=\"3\" halign=\"left\">Distance (km)</th>\n",
       "      <th colspan=\"2\" halign=\"left\">Average Speed (km/h)</th>\n",
       "      <th colspan=\"2\" halign=\"left\">Climb (m)</th>\n",
       "      <th colspan=\"3\" halign=\"left\">Duration(HH:MM:SS)</th>\n",
       "    </tr>\n",
       "    <tr>\n",
       "      <th></th>\n",
       "      <th></th>\n",
       "      <th>median</th>\n",
       "      <th>sum</th>\n",
       "      <th>max</th>\n",
       "      <th>median</th>\n",
       "      <th>max</th>\n",
       "      <th>median</th>\n",
       "      <th>max</th>\n",
       "      <th>median</th>\n",
       "      <th>max</th>\n",
       "      <th>total</th>\n",
       "    </tr>\n",
       "  </thead>\n",
       "  <tbody>\n",
       "    <tr>\n",
       "      <th>0</th>\n",
       "      <td>5</td>\n",
       "      <td>21.18</td>\n",
       "      <td>42.36</td>\n",
       "      <td>21.21</td>\n",
       "      <td>9.425</td>\n",
       "      <td>9.64</td>\n",
       "      <td>31</td>\n",
       "      <td>31</td>\n",
       "      <td>2:14:55</td>\n",
       "      <td>2:18:9</td>\n",
       "      <td>4:29:50</td>\n",
       "    </tr>\n",
       "    <tr>\n",
       "      <th>1</th>\n",
       "      <td>11</td>\n",
       "      <td>10.10</td>\n",
       "      <td>10.10</td>\n",
       "      <td>10.10</td>\n",
       "      <td>9.160</td>\n",
       "      <td>9.16</td>\n",
       "      <td>33</td>\n",
       "      <td>33</td>\n",
       "      <td>1:6:11</td>\n",
       "      <td>1:6:11</td>\n",
       "      <td>1:6:11</td>\n",
       "    </tr>\n",
       "    <tr>\n",
       "      <th>2</th>\n",
       "      <td>17</td>\n",
       "      <td>5.57</td>\n",
       "      <td>5.57</td>\n",
       "      <td>5.57</td>\n",
       "      <td>10.610</td>\n",
       "      <td>10.61</td>\n",
       "      <td>7</td>\n",
       "      <td>7</td>\n",
       "      <td>31:30</td>\n",
       "      <td>31:30</td>\n",
       "      <td>31:30</td>\n",
       "    </tr>\n",
       "    <tr>\n",
       "      <th>3</th>\n",
       "      <td>18</td>\n",
       "      <td>5.63</td>\n",
       "      <td>33.82</td>\n",
       "      <td>5.70</td>\n",
       "      <td>10.370</td>\n",
       "      <td>10.74</td>\n",
       "      <td>8</td>\n",
       "      <td>10</td>\n",
       "      <td>32:25</td>\n",
       "      <td>34:2</td>\n",
       "      <td>3:15:58</td>\n",
       "    </tr>\n",
       "    <tr>\n",
       "      <th>4</th>\n",
       "      <td>19</td>\n",
       "      <td>5.25</td>\n",
       "      <td>13.85</td>\n",
       "      <td>5.37</td>\n",
       "      <td>10.410</td>\n",
       "      <td>10.42</td>\n",
       "      <td>39</td>\n",
       "      <td>44</td>\n",
       "      <td>30:14</td>\n",
       "      <td>30:56</td>\n",
       "      <td>1:21:17</td>\n",
       "    </tr>\n",
       "  </tbody>\n",
       "</table>\n",
       "</div>"
      ],
      "text/plain": [
       "  hour Distance (km)               Average Speed (km/h)        Climb (m)      \\\n",
       "              median    sum    max               median    max    median max   \n",
       "0    5         21.18  42.36  21.21                9.425   9.64        31  31   \n",
       "1   11         10.10  10.10  10.10                9.160   9.16        33  33   \n",
       "2   17          5.57   5.57   5.57               10.610  10.61         7   7   \n",
       "3   18          5.63  33.82   5.70               10.370  10.74         8  10   \n",
       "4   19          5.25  13.85   5.37               10.410  10.42        39  44   \n",
       "\n",
       "  Duration(HH:MM:SS)                   \n",
       "              median     max    total  \n",
       "0            2:14:55  2:18:9  4:29:50  \n",
       "1             1:6:11  1:6:11   1:6:11  \n",
       "2              31:30   31:30    31:30  \n",
       "3              32:25    34:2  3:15:58  \n",
       "4              30:14   30:56  1:21:17  "
      ]
     },
     "execution_count": 83,
     "metadata": {},
     "output_type": "execute_result"
    }
   ],
   "source": [
    "df_grouped_hour = df.groupby(\"hour\")[[\"Distance (km)\", \"duration_sec\", \"Average Speed (km/h)\", \"Climb (m)\"]].agg({\"Distance (km)\": [\"median\", \"sum\", \"max\"], \"duration_sec\": [\"median\", \"sum\", \"max\"], \"Average Speed (km/h)\": [\"median\", \"max\"], \"Climb (m)\": [\"median\", \"max\"]})\n",
    "df_grouped_hour = df_grouped_hour.reset_index()\n",
    "\n",
    "df_grouped_hour[(\"Duration(HH:MM:SS)\", \"median\")] =  df_grouped_hour[(\"duration_sec\", \"median\")].apply(get_duration_in_hh_mm_ss)\n",
    "df_grouped_hour[(\"Duration(HH:MM:SS)\", \"max\")] =  df_grouped_hour[(\"duration_sec\", \"max\")].apply(get_duration_in_hh_mm_ss)\n",
    "df_grouped_hour[(\"Duration(HH:MM:SS)\", \"total\")] =  df_grouped_hour[(\"duration_sec\", \"sum\")].apply(get_duration_in_hh_mm_ss)\n",
    "\n",
    "\n",
    "df_grouped_hour = df_grouped_hour.drop(columns=[(\"duration_sec\", \"median\"), (\"duration_sec\", \"max\"), (\"duration_sec\", \"sum\")])\n",
    "\n",
    "df_grouped_hour.head()"
   ]
  },
  {
   "cell_type": "code",
   "execution_count": 91,
   "metadata": {},
   "outputs": [
    {
     "data": {
      "text/html": [
       "<div>\n",
       "<style scoped>\n",
       "    .dataframe tbody tr th:only-of-type {\n",
       "        vertical-align: middle;\n",
       "    }\n",
       "\n",
       "    .dataframe tbody tr th {\n",
       "        vertical-align: top;\n",
       "    }\n",
       "\n",
       "    .dataframe thead th {\n",
       "        text-align: right;\n",
       "    }\n",
       "</style>\n",
       "<table border=\"1\" class=\"dataframe\">\n",
       "  <thead>\n",
       "    <tr style=\"text-align: right;\">\n",
       "      <th></th>\n",
       "      <th>hour</th>\n",
       "      <th>num_runs</th>\n",
       "    </tr>\n",
       "  </thead>\n",
       "  <tbody>\n",
       "    <tr>\n",
       "      <th>0</th>\n",
       "      <td>5</td>\n",
       "      <td>2</td>\n",
       "    </tr>\n",
       "    <tr>\n",
       "      <th>1</th>\n",
       "      <td>11</td>\n",
       "      <td>1</td>\n",
       "    </tr>\n",
       "    <tr>\n",
       "      <th>2</th>\n",
       "      <td>17</td>\n",
       "      <td>1</td>\n",
       "    </tr>\n",
       "    <tr>\n",
       "      <th>3</th>\n",
       "      <td>18</td>\n",
       "      <td>6</td>\n",
       "    </tr>\n",
       "    <tr>\n",
       "      <th>4</th>\n",
       "      <td>19</td>\n",
       "      <td>3</td>\n",
       "    </tr>\n",
       "  </tbody>\n",
       "</table>\n",
       "</div>"
      ],
      "text/plain": [
       "   hour  num_runs\n",
       "0     5         2\n",
       "1    11         1\n",
       "2    17         1\n",
       "3    18         6\n",
       "4    19         3"
      ]
     },
     "execution_count": 91,
     "metadata": {},
     "output_type": "execute_result"
    }
   ],
   "source": [
    "df_grouped_hour_count = df.groupby(\"hour\").size().reset_index()\n",
    "df_grouped_hour_count.columns = ['hour', 'num_runs']\n",
    "df_grouped_hour_count.head()\n",
    "\n",
    "\n"
   ]
  },
  {
   "cell_type": "code",
   "execution_count": 95,
   "metadata": {},
   "outputs": [
    {
     "data": {
      "text/html": [
       "<div>\n",
       "<style scoped>\n",
       "    .dataframe tbody tr th:only-of-type {\n",
       "        vertical-align: middle;\n",
       "    }\n",
       "\n",
       "    .dataframe tbody tr th {\n",
       "        vertical-align: top;\n",
       "    }\n",
       "\n",
       "    .dataframe thead th {\n",
       "        text-align: right;\n",
       "    }\n",
       "</style>\n",
       "<table border=\"1\" class=\"dataframe\">\n",
       "  <thead>\n",
       "    <tr style=\"text-align: right;\">\n",
       "      <th></th>\n",
       "      <th>hour</th>\n",
       "      <th>(hour, )</th>\n",
       "      <th>(Distance (km), median)</th>\n",
       "      <th>(Distance (km), sum)</th>\n",
       "      <th>(Distance (km), max)</th>\n",
       "      <th>(Average Speed (km/h), median)</th>\n",
       "      <th>(Average Speed (km/h), max)</th>\n",
       "      <th>(Climb (m), median)</th>\n",
       "      <th>(Climb (m), max)</th>\n",
       "      <th>(Duration(HH:MM:SS), median)</th>\n",
       "      <th>(Duration(HH:MM:SS), max)</th>\n",
       "      <th>(Duration(HH:MM:SS), total)</th>\n",
       "      <th>num_runs</th>\n",
       "    </tr>\n",
       "  </thead>\n",
       "  <tbody>\n",
       "    <tr>\n",
       "      <th>3</th>\n",
       "      <td>18</td>\n",
       "      <td>18</td>\n",
       "      <td>5.63</td>\n",
       "      <td>33.82</td>\n",
       "      <td>5.70</td>\n",
       "      <td>10.370</td>\n",
       "      <td>10.74</td>\n",
       "      <td>8</td>\n",
       "      <td>10</td>\n",
       "      <td>32:25</td>\n",
       "      <td>34:2</td>\n",
       "      <td>3:15:58</td>\n",
       "      <td>6</td>\n",
       "    </tr>\n",
       "    <tr>\n",
       "      <th>4</th>\n",
       "      <td>19</td>\n",
       "      <td>19</td>\n",
       "      <td>5.25</td>\n",
       "      <td>13.85</td>\n",
       "      <td>5.37</td>\n",
       "      <td>10.410</td>\n",
       "      <td>10.42</td>\n",
       "      <td>39</td>\n",
       "      <td>44</td>\n",
       "      <td>30:14</td>\n",
       "      <td>30:56</td>\n",
       "      <td>1:21:17</td>\n",
       "      <td>3</td>\n",
       "    </tr>\n",
       "    <tr>\n",
       "      <th>5</th>\n",
       "      <td>20</td>\n",
       "      <td>20</td>\n",
       "      <td>5.29</td>\n",
       "      <td>15.74</td>\n",
       "      <td>5.37</td>\n",
       "      <td>10.500</td>\n",
       "      <td>10.54</td>\n",
       "      <td>39</td>\n",
       "      <td>40</td>\n",
       "      <td>30:32</td>\n",
       "      <td>30:35</td>\n",
       "      <td>1:30:9</td>\n",
       "      <td>3</td>\n",
       "    </tr>\n",
       "    <tr>\n",
       "      <th>0</th>\n",
       "      <td>5</td>\n",
       "      <td>5</td>\n",
       "      <td>21.18</td>\n",
       "      <td>42.36</td>\n",
       "      <td>21.21</td>\n",
       "      <td>9.425</td>\n",
       "      <td>9.64</td>\n",
       "      <td>31</td>\n",
       "      <td>31</td>\n",
       "      <td>2:14:55</td>\n",
       "      <td>2:18:9</td>\n",
       "      <td>4:29:50</td>\n",
       "      <td>2</td>\n",
       "    </tr>\n",
       "    <tr>\n",
       "      <th>1</th>\n",
       "      <td>11</td>\n",
       "      <td>11</td>\n",
       "      <td>10.10</td>\n",
       "      <td>10.10</td>\n",
       "      <td>10.10</td>\n",
       "      <td>9.160</td>\n",
       "      <td>9.16</td>\n",
       "      <td>33</td>\n",
       "      <td>33</td>\n",
       "      <td>1:6:11</td>\n",
       "      <td>1:6:11</td>\n",
       "      <td>1:6:11</td>\n",
       "      <td>1</td>\n",
       "    </tr>\n",
       "    <tr>\n",
       "      <th>2</th>\n",
       "      <td>17</td>\n",
       "      <td>17</td>\n",
       "      <td>5.57</td>\n",
       "      <td>5.57</td>\n",
       "      <td>5.57</td>\n",
       "      <td>10.610</td>\n",
       "      <td>10.61</td>\n",
       "      <td>7</td>\n",
       "      <td>7</td>\n",
       "      <td>31:30</td>\n",
       "      <td>31:30</td>\n",
       "      <td>31:30</td>\n",
       "      <td>1</td>\n",
       "    </tr>\n",
       "  </tbody>\n",
       "</table>\n",
       "</div>"
      ],
      "text/plain": [
       "   hour  (hour, )  (Distance (km), median)  (Distance (km), sum)  \\\n",
       "3    18        18                     5.63                 33.82   \n",
       "4    19        19                     5.25                 13.85   \n",
       "5    20        20                     5.29                 15.74   \n",
       "0     5         5                    21.18                 42.36   \n",
       "1    11        11                    10.10                 10.10   \n",
       "2    17        17                     5.57                  5.57   \n",
       "\n",
       "   (Distance (km), max)  (Average Speed (km/h), median)  \\\n",
       "3                  5.70                          10.370   \n",
       "4                  5.37                          10.410   \n",
       "5                  5.37                          10.500   \n",
       "0                 21.21                           9.425   \n",
       "1                 10.10                           9.160   \n",
       "2                  5.57                          10.610   \n",
       "\n",
       "   (Average Speed (km/h), max)  (Climb (m), median)  (Climb (m), max)  \\\n",
       "3                        10.74                    8                10   \n",
       "4                        10.42                   39                44   \n",
       "5                        10.54                   39                40   \n",
       "0                         9.64                   31                31   \n",
       "1                         9.16                   33                33   \n",
       "2                        10.61                    7                 7   \n",
       "\n",
       "  (Duration(HH:MM:SS), median) (Duration(HH:MM:SS), max)  \\\n",
       "3                        32:25                      34:2   \n",
       "4                        30:14                     30:56   \n",
       "5                        30:32                     30:35   \n",
       "0                      2:14:55                    2:18:9   \n",
       "1                       1:6:11                    1:6:11   \n",
       "2                        31:30                     31:30   \n",
       "\n",
       "  (Duration(HH:MM:SS), total)  num_runs  \n",
       "3                     3:15:58         6  \n",
       "4                     1:21:17         3  \n",
       "5                      1:30:9         3  \n",
       "0                     4:29:50         2  \n",
       "1                      1:6:11         1  \n",
       "2                       31:30         1  "
      ]
     },
     "execution_count": 95,
     "metadata": {},
     "output_type": "execute_result"
    }
   ],
   "source": [
    "result_df = df_grouped_hour.merge(df_grouped_hour_count, on='hour')\n",
    "result_df = result_df.sort_values('num_runs', ascending=False)\n",
    "result_df"
   ]
  },
  {
   "cell_type": "code",
   "execution_count": null,
   "metadata": {},
   "outputs": [],
   "source": []
  }
 ],
 "metadata": {
  "kernelspec": {
   "display_name": "mutualfunds",
   "language": "python",
   "name": "mutualfunds"
  },
  "language_info": {
   "codemirror_mode": {
    "name": "ipython",
    "version": 3
   },
   "file_extension": ".py",
   "mimetype": "text/x-python",
   "name": "python",
   "nbconvert_exporter": "python",
   "pygments_lexer": "ipython3",
   "version": "3.7.5"
  }
 },
 "nbformat": 4,
 "nbformat_minor": 4
}
